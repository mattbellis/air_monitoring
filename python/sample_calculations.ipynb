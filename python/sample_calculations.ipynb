{
 "cells": [
  {
   "cell_type": "markdown",
   "metadata": {},
   "source": [
    "[Potassium-40 Wikipedia](https://en.wikipedia.org/wiki/Potassium-40)"
   ]
  },
  {
   "cell_type": "code",
   "execution_count": 6,
   "metadata": {},
   "outputs": [],
   "source": [
    "import numpy as np"
   ]
  },
  {
   "cell_type": "code",
   "execution_count": 29,
   "metadata": {},
   "outputs": [
    {
     "name": "stdout",
     "output_type": "stream",
     "text": [
      "5.691653534265241e+16\n",
      "2.5e-11 15.0\n"
     ]
    }
   ],
   "source": [
    "halflife = 1.251e9 # Years\n",
    "\n",
    "lifetime = halflife/np.log(2)\n",
    "lifetime *= 365*24*60*60 # Convert to seconds\n",
    "\n",
    "print(lifetime)\n",
    "\n",
    "fraction = 0.012e-2 # Fraction is 0.012% of potatassium in nature\n",
    "ec_fraction = 0.1072 # Fraction of decay through EC to Ar40\n",
    "\n",
    "mass = 1e-12 # in kg, Call this 1 nanogram.\n",
    "             # For reference, a banana has 422 milligrams of potassium\n",
    "    \n",
    "moles = (mass*1000/40)\n",
    "\n",
    "N = 6e23 * moles\n",
    "\n",
    "print(moles,N/1e12)"
   ]
  },
  {
   "cell_type": "code",
   "execution_count": 30,
   "metadata": {},
   "outputs": [
    {
     "name": "stdout",
     "output_type": "stream",
     "text": [
      "1800000000.0\n"
     ]
    }
   ],
   "source": [
    "NK40 = N*fraction\n",
    "\n",
    "print(NK40)"
   ]
  },
  {
   "cell_type": "code",
   "execution_count": 31,
   "metadata": {},
   "outputs": [
    {
     "name": "stdout",
     "output_type": "stream",
     "text": [
      "3.39022744160955e-09\n"
     ]
    }
   ],
   "source": [
    "decays_per_second = ec_fraction*(NK40/lifetime)\n",
    "\n",
    "print(decays_per_second)"
   ]
  },
  {
   "cell_type": "code",
   "execution_count": 32,
   "metadata": {},
   "outputs": [
    {
     "name": "stdout",
     "output_type": "stream",
     "text": [
      "0.008787469528651953\n"
     ]
    }
   ],
   "source": [
    "decays_per_month = decays_per_second*60*60*24*30\n",
    "\n",
    "print(decays_per_month)"
   ]
  },
  {
   "cell_type": "code",
   "execution_count": null,
   "metadata": {},
   "outputs": [],
   "source": []
  }
 ],
 "metadata": {
  "kernelspec": {
   "display_name": "Python 3",
   "language": "python",
   "name": "python3"
  },
  "language_info": {
   "codemirror_mode": {
    "name": "ipython",
    "version": 3
   },
   "file_extension": ".py",
   "mimetype": "text/x-python",
   "name": "python",
   "nbconvert_exporter": "python",
   "pygments_lexer": "ipython3",
   "version": "3.6.8"
  }
 },
 "nbformat": 4,
 "nbformat_minor": 2
}
