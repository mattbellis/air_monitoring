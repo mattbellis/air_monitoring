{
 "cells": [
  {
   "cell_type": "code",
   "execution_count": null,
   "metadata": {},
   "outputs": [],
   "source": [
    "import numpy as np\n",
    "import matplotlib.pylab as plt\n",
    "%matplotlib notebook"
   ]
  },
  {
   "cell_type": "code",
   "execution_count": null,
   "metadata": {
    "scrolled": false
   },
   "outputs": [],
   "source": [
    "datadir = 'PIXE_data/'\n",
    "\n",
    "infilenames = [                                                                                                                                               'Air_0.8_061818_3.3102microC.mca',\n",
    "'Air_0.8_061818_3.3102microC.mca',\n",
    "#'Mica_061818.mca','Vacuum_0.8_061818_4.1292microC_pt2.mca',\n",
    "'Air_2.5_061818_3.4346microC.mca',\n",
    "'Pristine_0.8_061818_3.3249microC.mca',\n",
    "'Vacuum_2.5_061818_3.3964microC.mca',\n",
    "#'Aluminum.filter.crystal_061818_1.831microC.mca',\n",
    "'Pristine_2.5_061818_3.3517microC.mca',\n",
    "#'Kapton_061818_3.9281microC.mca',\n",
    "'Vacuum_0.8_061818_3.7189microC.mca'\n",
    "]\n",
    "\n",
    "\n",
    "plt.figure(figsize=(12,6))\n",
    "\n",
    "for infilename in infilenames:\n",
    "    data = open(datadir+infilename,encoding = \"ISO-8859-1\").readlines()\n",
    "\n",
    "    live_time = float(data[7].split()[-1])\n",
    "    print(live_time)\n",
    "\n",
    "    #print(data[16:1040])\n",
    "    vals = []\n",
    "    for i in data[16:1040]:\n",
    "        vals.append(float(i.strip()))\n",
    "\n",
    "    vals = np.array(vals)\n",
    "    vals /= live_time\n",
    "    x = np.linspace(0,len(vals),len(vals))\n",
    "    #print(x)\n",
    "    x*=2.8\n",
    "\n",
    "    plt.plot(x,vals,'-',label=infilename)\n",
    "\n",
    "plt.yscale('log')\n",
    "plt.legend()\n"
   ]
  },
  {
   "cell_type": "code",
   "execution_count": null,
   "metadata": {},
   "outputs": [],
   "source": []
  }
 ],
 "metadata": {
  "kernelspec": {
   "display_name": "Python 3",
   "language": "python",
   "name": "python3"
  },
  "language_info": {
   "codemirror_mode": {
    "name": "ipython",
    "version": 3
   },
   "file_extension": ".py",
   "mimetype": "text/x-python",
   "name": "python",
   "nbconvert_exporter": "python",
   "pygments_lexer": "ipython3",
   "version": "3.6.5"
  }
 },
 "nbformat": 4,
 "nbformat_minor": 2
}
