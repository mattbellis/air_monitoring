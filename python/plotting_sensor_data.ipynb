{
 "cells": [
  {
   "cell_type": "code",
   "execution_count": null,
   "metadata": {},
   "outputs": [],
   "source": [
    "import matplotlib.pylab as plt\n",
    "import numpy as np\n",
    "\n",
    "import os"
   ]
  },
  {
   "cell_type": "code",
   "execution_count": null,
   "metadata": {},
   "outputs": [],
   "source": [
    "tmp = os.listdir('./SENSOR_DATA/')\n",
    "\n",
    "#print(tmp)\n",
    "\n",
    "filenames = []\n",
    "\n",
    "for t in tmp:\n",
    "    filenames.append('./SENSOR_DATA/{0}'.format(t))\n",
    "\n",
    "for i in range(len(filenames)):\n",
    "    print(i,filenames[i])"
   ]
  },
  {
   "cell_type": "code",
   "execution_count": null,
   "metadata": {},
   "outputs": [],
   "source": [
    "idx = 5\n",
    "\n",
    "infilename = filenames[idx]\n",
    "\n",
    "print(infilename)\n",
    "print(infilename.split('_'))\n",
    "\n",
    "starttime = infilename.split('_')[-1].split('.')[0]\n",
    "year = int(infilename.split('_')[3])\n",
    "month = int(infilename.split('_')[4])\n",
    "day = int(infilename.split('_')[5])\n",
    "\n",
    "print(year,month,day)\n",
    "print(starttime)\n",
    "\n",
    "infile = open(infilename)\n",
    "\n",
    "time = []\n",
    "humidity = []\n",
    "t = []\n",
    "p = []\n",
    "\n",
    "for line in infile:\n",
    "    #print(line)\n",
    "    vals = line.split()\n",
    "    time.append(float(vals[1]))\n",
    "    humidity.append(float(vals[3]))\n",
    "    t.append(float(vals[6]))\n",
    "    p.append(float(vals[8]))\n",
    "    \n"
   ]
  },
  {
   "cell_type": "code",
   "execution_count": null,
   "metadata": {
    "scrolled": false
   },
   "outputs": [],
   "source": [
    "plt.figure(figsize=(16,12))\n",
    "plt.subplot(3,1,1)\n",
    "plt.plot(time,t)\n",
    "plt.ylabel('Temperature [F]',fontsize=14)\n",
    "\n",
    "plt.subplot(3,1,2)\n",
    "plt.plot(time,humidity)\n",
    "plt.ylabel('Humidity [%]',fontsize=14)\n",
    "\n",
    "plt.subplot(3,1,3)\n",
    "plt.plot(time,p)\n",
    "plt.ylabel('Pressure [kPa]',fontsize=14)\n",
    "\n",
    "plt.tight_layout()\n"
   ]
  },
  {
   "cell_type": "code",
   "execution_count": null,
   "metadata": {},
   "outputs": [],
   "source": []
  }
 ],
 "metadata": {
  "kernelspec": {
   "display_name": "Python 3",
   "language": "python",
   "name": "python3"
  },
  "language_info": {
   "codemirror_mode": {
    "name": "ipython",
    "version": 3
   },
   "file_extension": ".py",
   "mimetype": "text/x-python",
   "name": "python",
   "nbconvert_exporter": "python",
   "pygments_lexer": "ipython3",
   "version": "3.7.0"
  }
 },
 "nbformat": 4,
 "nbformat_minor": 2
}
